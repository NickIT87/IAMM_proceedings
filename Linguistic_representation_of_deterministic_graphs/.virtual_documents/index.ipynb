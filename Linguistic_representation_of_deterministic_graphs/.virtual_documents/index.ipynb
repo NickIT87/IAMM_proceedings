import networkx as nx
from networkx.algorithms import isomorphism

from DataBenchmarks.data import print_data, TestCases as T, sample_exists, sample_not_exists
#from DataBenchmarks.flowerGraph import *
from AlgorithmsLibraries.alglib_version_02_current import *
#from AlgorithmsLibraries.debug_helpers import *

import sys
from contextlib import contextmanager


@contextmanager
def suppress_output():
    original_stdout = sys.stdout
    sys.stdout = None
    try:
        yield
    finally:
        sys.stdout = original_stdout


T.sample.defining_pair


sample_exists


sample_not_exists


G = ap_graph(T.sample.defining_pair.C, T.sample.defining_pair.L, T.sample.root_label)
G.name = 'Etalon G'
print_data(G)


S = ap_graph(sample_exists[0], sample_exists[1], '1')
S.name = 'sample_exists'
print_data(S)


ap_graph(sample_not_exists[0], sample_not_exists[1])


c_pair_of_G_by_ac_pair = ac_pair(G)
c_pair_of_G_by_compression = compression(T.sample.defining_pair.C, T.sample.defining_pair.L)
c_pair_of_G_by_compression


c_pair_of_G_by_ac_pair


c_pair_of_G_by_compression = c_pair_of_G_by_compression['compressed_pair']
c_pair_of_G_by_compression


def tuple_to_set(t):
    return {frozenset(subtuple) for subtuple in t}

set1 = tuple_to_set(c_pair_of_G_by_ac_pair)
set2 = tuple_to_set(c_pair_of_G_by_compression)

if set1 == set2:
    print("Pair is equal: ", set1 == set2)


with suppress_output():
    sample_compressed = compression(sample_exists[0], sample_exists[1])

ac_pair(S) == sample_compressed['compressed_pair']


G1 = ap_graph(c_pair_of_G_by_ac_pair[0], c_pair_of_G_by_ac_pair[1], '0')
G2 = ap_graph(c_pair_of_G_by_compression[0], c_pair_of_G_by_compression[1], '0')

GM = isomorphism.GraphMatcher(G, G1)
GM1 = isomorphism.GraphMatcher(G, G2)
GM2 = isomorphism.GraphMatcher(G1, G2)
if GM.is_isomorphic() and GM1.is_isomorphic() and GM2.is_isomorphic():
    print("Graphs is isomorfic")


S1 = ap_graph(sample_compressed['compressed_pair'][0], sample_compressed['compressed_pair'][1], '1')
SM = isomorphism.GraphMatcher(S, S1)
SM.is_isomorphic()
